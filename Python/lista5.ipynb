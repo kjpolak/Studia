{
 "cells": [
  {
   "cell_type": "code",
   "execution_count": 1,
   "metadata": {},
   "outputs": [],
   "source": [
    "from itertools import permutations\n",
    "from math import floor, sqrt\n",
    "import pandas\n",
    "import numpy as np\n",
    "import timeit"
   ]
  },
  {
   "cell_type": "markdown",
   "metadata": {},
   "source": [
    "Zadanie 1"
   ]
  },
  {
   "cell_type": "code",
   "execution_count": 9,
   "metadata": {},
   "outputs": [
    {
     "name": "stdout",
     "output_type": "stream",
     "text": [
      "[2, 3, 5, 7, 11, 13, 17, 19]\n"
     ]
    }
   ],
   "source": [
    "def pierwsze_iteracyjna(n):\n",
    "    for i in range(2, n):\n",
    "        for j in range(2, floor(sqrt(i))+1):\n",
    "            if i%j==0:\n",
    "                break\n",
    "        else:\n",
    "            yield i\n",
    "\n",
    "\n",
    "print([x for x in pierwsze_iteracyjna(20)])"
   ]
  },
  {
   "cell_type": "code",
   "execution_count": 3,
   "metadata": {},
   "outputs": [],
   "source": [
    "def pierwsze_imperatywna(n):\n",
    "    primes = []\n",
    "    for i in range(2, n):\n",
    "        for j in range(2, floor(sqrt(i))+1):\n",
    "            if i%j==0:\n",
    "                break\n",
    "        else:\n",
    "            primes.append(i)\n",
    "    return primes\n",
    "\n",
    "def pierwsze_skladana(n):\n",
    "    return [x for x in range(2, n) if all(x%i!=0 for i in range(2,floor(sqrt(x))+1))]\n",
    "\n",
    "def pierwsze_funkcyjna(n):\n",
    "    return list(filter(lambda x: all(map(lambda i: x % i != 0, range(2, floor(sqrt(x))+1))),range(2, n)))"
   ]
  },
  {
   "cell_type": "code",
   "execution_count": 4,
   "metadata": {},
   "outputs": [],
   "source": [
    "def wrapper(func, *args):\n",
    "     def wrapped():\n",
    "         return func(*args)\n",
    "     return wrapped\n",
    "\n",
    "\n",
    "wrapped1 = wrapper(pierwsze_imperatywna, 10)\n",
    "wrapped2 = wrapper(pierwsze_skladana, 10)\n",
    "wrapped3 = wrapper(pierwsze_funkcyjna, 10)\n",
    "wrapped4 = wrapper(pierwsze_iteracyjna, 10)\n",
    "\n",
    "wynik10=[timeit.timeit(wrapped1, number=1), timeit.timeit(wrapped2, number=1), timeit.timeit(wrapped3, number=1), timeit.timeit(wrapped4, number=1)]\n",
    "\n",
    "wrapped1 = wrapper(pierwsze_imperatywna, 100)\n",
    "wrapped2 = wrapper(pierwsze_skladana, 100)\n",
    "wrapped3 = wrapper(pierwsze_funkcyjna, 100)\n",
    "wrapped4 = wrapper(pierwsze_iteracyjna, 100)\n",
    "\n",
    "wynik100=[timeit.timeit(wrapped1, number=1), timeit.timeit(wrapped2, number=1), timeit.timeit(wrapped3, number=1), timeit.timeit(wrapped4, number=1)]\n",
    "\n",
    "wrapped1 = wrapper(pierwsze_imperatywna, 1000)\n",
    "wrapped2 = wrapper(pierwsze_skladana, 1000)\n",
    "wrapped3 = wrapper(pierwsze_funkcyjna, 1000)\n",
    "wrapped4 = wrapper(pierwsze_iteracyjna, 1000)\n",
    "\n",
    "wynik1000=[timeit.timeit(wrapped1, number=1), timeit.timeit(wrapped2, number=1), timeit.timeit(wrapped3, number=1), timeit.timeit(wrapped4, number=1)]"
   ]
  },
  {
   "cell_type": "code",
   "execution_count": 5,
   "metadata": {},
   "outputs": [
    {
     "data": {
      "text/html": [
       "<div>\n",
       "<style scoped>\n",
       "    .dataframe tbody tr th:only-of-type {\n",
       "        vertical-align: middle;\n",
       "    }\n",
       "\n",
       "    .dataframe tbody tr th {\n",
       "        vertical-align: top;\n",
       "    }\n",
       "\n",
       "    .dataframe thead th {\n",
       "        text-align: right;\n",
       "    }\n",
       "</style>\n",
       "<table border=\"1\" class=\"dataframe\">\n",
       "  <thead>\n",
       "    <tr style=\"text-align: right;\">\n",
       "      <th></th>\n",
       "      <th>imperatywna</th>\n",
       "      <th>funkcyjna</th>\n",
       "      <th>skladana</th>\n",
       "      <th>iterator</th>\n",
       "    </tr>\n",
       "  </thead>\n",
       "  <tbody>\n",
       "    <tr>\n",
       "      <th>10</th>\n",
       "      <td>0.000048</td>\n",
       "      <td>0.000053</td>\n",
       "      <td>0.000043</td>\n",
       "      <td>0.000005</td>\n",
       "    </tr>\n",
       "    <tr>\n",
       "      <th>100</th>\n",
       "      <td>0.000107</td>\n",
       "      <td>0.000164</td>\n",
       "      <td>0.000179</td>\n",
       "      <td>0.000003</td>\n",
       "    </tr>\n",
       "    <tr>\n",
       "      <th>1000</th>\n",
       "      <td>0.001301</td>\n",
       "      <td>0.002091</td>\n",
       "      <td>0.003129</td>\n",
       "      <td>0.000007</td>\n",
       "    </tr>\n",
       "  </tbody>\n",
       "</table>\n",
       "</div>"
      ],
      "text/plain": [
       "      imperatywna  funkcyjna  skladana  iterator\n",
       "10       0.000048   0.000053  0.000043  0.000005\n",
       "100      0.000107   0.000164  0.000179  0.000003\n",
       "1000     0.001301   0.002091  0.003129  0.000007"
      ]
     },
     "execution_count": 5,
     "metadata": {},
     "output_type": "execute_result"
    }
   ],
   "source": [
    "x_axis = [\"imperatywna\", \"funkcyjna\", \"skladana\", \"iterator\"]\n",
    "y_axis = [10,100, 1000]\n",
    "data = np.array([wynik10,\n",
    "                 wynik100,\n",
    "                 wynik1000])\n",
    "pandas.DataFrame(data, y_axis, x_axis)"
   ]
  },
  {
   "cell_type": "markdown",
   "metadata": {},
   "source": [
    "Zadanie 2"
   ]
  },
  {
   "cell_type": "code",
   "execution_count": 6,
   "metadata": {},
   "outputs": [
    {
     "data": {
      "text/plain": [
       "{'t': 7, 's': 2, 'i': 1, 'k': 4, 'a': 0, 'o': 3}"
      ]
     },
     "execution_count": 6,
     "metadata": {},
     "output_type": "execute_result"
    }
   ],
   "source": [
    "def eval(word, dict):\n",
    "    i = 1\n",
    "    number = 0\n",
    "    for letter in word[::-1]:\n",
    "        number+=dict[letter]*i\n",
    "        i*=10\n",
    "    return number\n",
    "\n",
    "def kryptarytm(x1, x2, x3):\n",
    "    chars = set(''.join(x1+x2+x3))\n",
    "    if len(chars)>10:\n",
    "        return False\n",
    "    all_possibility = [dict(zip(chars, x)) for x in permutations([0,1,2,3,4,5,6,7,8,9],len(chars))]\n",
    "    for possibility in all_possibility:\n",
    "        if possibility[x1[0]]*possibility[x2[0]]*possibility[x3[0]]==0:\n",
    "            continue\n",
    "        if eval(x1, possibility)+eval(x2, possibility)==eval(x3, possibility):\n",
    "            return possibility\n",
    "    return False\n",
    "\n",
    "kryptarytm('kioto', 'osaka', 'tokio')"
   ]
  },
  {
   "cell_type": "code",
   "execution_count": null,
   "metadata": {},
   "outputs": [],
   "source": []
  }
 ],
 "metadata": {
  "kernelspec": {
   "display_name": "Python 3",
   "language": "python",
   "name": "python3"
  },
  "language_info": {
   "codemirror_mode": {
    "name": "ipython",
    "version": 3
   },
   "file_extension": ".py",
   "mimetype": "text/x-python",
   "name": "python",
   "nbconvert_exporter": "python",
   "pygments_lexer": "ipython3",
   "version": "3.7.3"
  }
 },
 "nbformat": 4,
 "nbformat_minor": 2
}
