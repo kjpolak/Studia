{
 "cells": [
  {
   "cell_type": "code",
   "execution_count": 1,
   "metadata": {},
   "outputs": [],
   "source": [
    "# imports\n",
    "%matplotlib inline\n",
    "from collections import Counter\n",
    "import re\n",
    "import time\n",
    "import nltk\n",
    "from sklearn import (datasets, decomposition, ensemble, manifold, random_projection)\n",
    "from nltk.corpus import stopwords\n",
    "import os\n",
    "from nltk.tokenize import word_tokenize\n",
    "from nltk.stem import PorterStemmer\n",
    "import matplotlib.pyplot as plt\n",
    "import numpy as np\n",
    "from sklearn.svm import SVC\n",
    "from sklearn.neighbors import KNeighborsClassifier\n",
    "import pandas as pd\n",
    "from tqdm import tqdm_notebook\n",
    "import scipy.stats as sstats\n",
    "from sklearn.model_selection import train_test_split\n",
    "from sklearn import preprocessing\n",
    "import math\n",
    "import string\n",
    "from sklearn.neighbors import NeighborhoodComponentsAnalysis\n",
    "from sklearn.feature_extraction.text import CountVectorizer\n",
    "import seaborn as sns\n",
    "from wordcloud import WordCloud, STOPWORDS, ImageColorGenerator\n",
    "from sklearn import datasets\n",
    "stop_words = set(stopwords.words('english'))\n",
    "sns.set_style('whitegrid')"
   ]
  },
  {
   "cell_type": "code",
   "execution_count": 2,
   "metadata": {},
   "outputs": [
    {
     "name": "stdout",
     "output_type": "stream",
     "text": [
      "0                    @VirginAmerica What @dhepburn said.\n",
      "1      @VirginAmerica plus you've added commercials t...\n",
      "2      @VirginAmerica I didn't today... Must mean I n...\n",
      "3      @VirginAmerica it's really aggressive to blast...\n",
      "4      @VirginAmerica and it's a really big bad thing...\n",
      "                             ...                        \n",
      "499    @VirginAmerica morning. If I have a question r...\n",
      "500    @VirginAmerica still waiting to see  @Starryey...\n",
      "501    @VirginAmerica was wondering if you guys recie...\n",
      "502    @VirginAmerica Flying LAX to SFO and after loo...\n",
      "503    “@VirginAmerica: Book out of town with fares f...\n",
      "Name: text, Length: 504, dtype: object\n",
      "504                                        @united thanks\n",
      "505     @united Thanks for taking care of that MR!! Ha...\n",
      "506     @united still no refund or word via DM. Please...\n",
      "507     @united Delayed due to lack of crew and now de...\n",
      "508     @united thanks -- we filled it out. How's our ...\n",
      "                              ...                        \n",
      "4321    @united, link to current status of flights/air...\n",
      "4322    @united I like delays less than you because I'...\n",
      "4323    @united and don't hope for me having a nicer f...\n",
      "4324    @united the we got into the gate at IAH on tim...\n",
      "4325    @united yes. We waited in line for almost an h...\n",
      "Name: text, Length: 3822, dtype: object\n",
      "4326      @SouthwestAir still waiting. Just hit one hour.\n",
      "4327    @SouthwestAir although I'm not happy you Cance...\n",
      "4328    @SouthwestAir Hello - been on hold for extreme...\n",
      "4329    @SouthwestAir I'm teaching new #travelers how ...\n",
      "4330    @SouthwestAir Very frustrated for the loooooon...\n",
      "                              ...                        \n",
      "6741    @SouthwestAir won't answer their phones #Horri...\n",
      "6742    @SouthwestAir We have been stuck in SJU for se...\n",
      "6743               @SouthwestAir nice work on the update!\n",
      "6744    @SouthwestAir you guys there? Are we on hour 2...\n",
      "6745    @SouthwestAir its cool that my bags take a bit...\n",
      "Name: text, Length: 2420, dtype: object\n",
      "6746     @JetBlue Yesterday on my way from EWR to FLL j...\n",
      "6747     @JetBlue I hope so because I fly very often an...\n",
      "6748                  @JetBlue flight 1041 to Savannah, GA\n",
      "6749     @JetBlue They weren't on any flight, they just...\n",
      "6750     @JetBlue everyone is here but our pilots are n...\n",
      "                               ...                        \n",
      "8963     @JetBlue CEO weighs profits, flyers - @Chronic...\n",
      "8964     @JetBlue is REALLY getting on my nerves !! 😡😡 ...\n",
      "8965     @JetBlue's new CEO seeks the right balance to ...\n",
      "12038    @DeltaAssist now at 57 minutes waiting on Silv...\n",
      "12039    @DeltaAssist what I have to say is more than 1...\n",
      "Name: text, Length: 2222, dtype: object\n",
      "8966     @USAirways  is there a better time to call? My...\n",
      "8967     @USAirways and when will one of these agents b...\n",
      "8968     @USAirways is a DM possible if you aren't foll...\n",
      "8969     @USAirways Fortunately you have staff like Lyn...\n",
      "8970     @USAirways just hung up on me again.  Another ...\n",
      "                               ...                        \n",
      "11874    @USAirways I have been on hold with your Gold ...\n",
      "11875    .@USAirways we have no choice but to pay anoth...\n",
      "11876    @USAirways reservations had me on hold for 2 h...\n",
      "11877    @USAirways @AmericanAir How r u supposed to ch...\n",
      "11878              @USAirways how's us 1797 looking today?\n",
      "Name: text, Length: 2913, dtype: object\n",
      "11879    @AmericanAir why would I even consider continu...\n",
      "11880    @AmericanAir we've already made other arrangem...\n",
      "11881    @AmericanAir thanks for getting back to me. Bu...\n",
      "11882    @AmericanAir why would I pay $200 to reactivat...\n",
      "11883    @AmericanAir stranded for 24 hours in MIA, Pat...\n",
      "                               ...                        \n",
      "14635    @AmericanAir thank you we got on a different f...\n",
      "14636    @AmericanAir leaving over 20 minutes Late Flig...\n",
      "14637    @AmericanAir Please bring American Airlines to...\n",
      "14638    @AmericanAir you have my money, you change my ...\n",
      "14639    @AmericanAir we have 8 ppl so we need 2 know h...\n",
      "Name: text, Length: 2759, dtype: object\n"
     ]
    },
    {
     "data": {
      "text/html": [
       "<div>\n",
       "<style scoped>\n",
       "    .dataframe tbody tr th:only-of-type {\n",
       "        vertical-align: middle;\n",
       "    }\n",
       "\n",
       "    .dataframe tbody tr th {\n",
       "        vertical-align: top;\n",
       "    }\n",
       "\n",
       "    .dataframe thead th {\n",
       "        text-align: right;\n",
       "    }\n",
       "</style>\n",
       "<table border=\"1\" class=\"dataframe\">\n",
       "  <thead>\n",
       "    <tr style=\"text-align: right;\">\n",
       "      <th></th>\n",
       "      <th>text</th>\n",
       "      <th>airline_sentiment</th>\n",
       "    </tr>\n",
       "  </thead>\n",
       "  <tbody>\n",
       "    <tr>\n",
       "      <td>0</td>\n",
       "      <td>@VirginAmerica What @dhepburn said.</td>\n",
       "      <td>neutral</td>\n",
       "    </tr>\n",
       "    <tr>\n",
       "      <td>1</td>\n",
       "      <td>@VirginAmerica plus you've added commercials t...</td>\n",
       "      <td>positive</td>\n",
       "    </tr>\n",
       "    <tr>\n",
       "      <td>2</td>\n",
       "      <td>@VirginAmerica I didn't today... Must mean I n...</td>\n",
       "      <td>neutral</td>\n",
       "    </tr>\n",
       "    <tr>\n",
       "      <td>3</td>\n",
       "      <td>@VirginAmerica it's really aggressive to blast...</td>\n",
       "      <td>negative</td>\n",
       "    </tr>\n",
       "    <tr>\n",
       "      <td>4</td>\n",
       "      <td>@VirginAmerica and it's a really big bad thing...</td>\n",
       "      <td>negative</td>\n",
       "    </tr>\n",
       "  </tbody>\n",
       "</table>\n",
       "</div>"
      ],
      "text/plain": [
       "                                                text airline_sentiment\n",
       "0                @VirginAmerica What @dhepburn said.           neutral\n",
       "1  @VirginAmerica plus you've added commercials t...          positive\n",
       "2  @VirginAmerica I didn't today... Must mean I n...           neutral\n",
       "3  @VirginAmerica it's really aggressive to blast...          negative\n",
       "4  @VirginAmerica and it's a really big bad thing...          negative"
      ]
     },
     "execution_count": 2,
     "metadata": {},
     "output_type": "execute_result"
    }
   ],
   "source": [
    "airline = pd.read_csv('Tweets.csv')\n",
    "airlines = airline.airline.unique()\n",
    "for e in airlines:\n",
    "    print(airline[airline['airline'] == e]['text'])\n",
    "airline = airline[['text', 'airline_sentiment']]\n",
    "airlines = ['VirginAmerica','united','SouthwestAir','JetBlue','USAirways','AmericanAir']\n",
    "airline.head()"
   ]
  },
  {
   "cell_type": "code",
   "execution_count": 3,
   "metadata": {},
   "outputs": [],
   "source": [
    "negs = airline[airline['airline_sentiment'] == 'negative']['text']\n",
    "poss = airline[airline['airline_sentiment'] == 'positive']['text']\n",
    "neus = airline[airline['airline_sentiment'] == 'neutral']['text']"
   ]
  },
  {
   "cell_type": "markdown",
   "metadata": {},
   "source": [
    "# RBF KERNELS"
   ]
  },
  {
   "cell_type": "markdown",
   "metadata": {},
   "source": [
    "### Basic SVM"
   ]
  },
  {
   "cell_type": "code",
   "execution_count": 8,
   "metadata": {},
   "outputs": [
    {
     "data": {
      "text/plain": [
       "SVC(C=1.0, cache_size=200, class_weight=None, coef0=0.0,\n",
       "    decision_function_shape='ovr', degree=3, gamma='auto', kernel='rbf',\n",
       "    max_iter=-1, probability=False, random_state=None, shrinking=True,\n",
       "    tol=0.001, verbose=False)"
      ]
     },
     "execution_count": 8,
     "metadata": {},
     "output_type": "execute_result"
    }
   ],
   "source": [
    "vectorizer = CountVectorizer()\n",
    "X = vectorizer.fit_transform(airline['text'])\n",
    "X_train, X_test, y_train, y_test = train_test_split(X, airline['airline_sentiment'], test_size=0.2)\n",
    "prev = time.time()\n",
    "clf = SVC(gamma='auto')\n",
    "clf.fit(X_train, y_train)\n",
    "curr = time.time()\n",
    "print(curr-prev)"
   ]
  },
  {
   "cell_type": "code",
   "execution_count": 56,
   "metadata": {},
   "outputs": [
    {
     "data": {
      "text/plain": [
       "0.6379781420765027"
      ]
     },
     "execution_count": 56,
     "metadata": {},
     "output_type": "execute_result"
    }
   ],
   "source": [
    "clf.score(X_test,y_test)"
   ]
  },
  {
   "cell_type": "markdown",
   "metadata": {},
   "source": [
    "It's already better thank KNN. But it just predicts everything as 'negative'"
   ]
  },
  {
   "cell_type": "code",
   "execution_count": 59,
   "metadata": {},
   "outputs": [
    {
     "data": {
      "text/plain": [
       "array(['negative'], dtype=object)"
      ]
     },
     "execution_count": 59,
     "metadata": {},
     "output_type": "execute_result"
    }
   ],
   "source": [
    "np.unique(clf.predict(X_test))"
   ]
  },
  {
   "cell_type": "markdown",
   "metadata": {},
   "source": [
    "#### Scaled gamma"
   ]
  },
  {
   "cell_type": "code",
   "execution_count": 23,
   "metadata": {},
   "outputs": [
    {
     "name": "stdout",
     "output_type": "stream",
     "text": [
      "31.402284383773804\n"
     ]
    }
   ],
   "source": [
    "vectorizer = CountVectorizer()\n",
    "X = vectorizer.fit_transform(airline['text'])\n",
    "X_train, X_test, y_train, y_test = train_test_split(X, airline['airline_sentiment'], test_size=0.2)\n",
    "prev = time.time()\n",
    "clf = SVC(gamma='scale')\n",
    "clf.fit(X_train, y_train)\n",
    "curr = time.time()\n",
    "print(curr-prev)"
   ]
  },
  {
   "cell_type": "code",
   "execution_count": 24,
   "metadata": {},
   "outputs": [
    {
     "data": {
      "text/plain": [
       "0.7838114754098361"
      ]
     },
     "execution_count": 24,
     "metadata": {},
     "output_type": "execute_result"
    }
   ],
   "source": [
    "clf.score(X_test,y_test)"
   ]
  },
  {
   "cell_type": "markdown",
   "metadata": {},
   "source": [
    "### What if we balance the dataset?"
   ]
  },
  {
   "cell_type": "markdown",
   "metadata": {},
   "source": [
    "#### for scaled gamma"
   ]
  },
  {
   "cell_type": "code",
   "execution_count": 25,
   "metadata": {},
   "outputs": [
    {
     "name": "stdout",
     "output_type": "stream",
     "text": [
      "309.6987795829773\n"
     ]
    }
   ],
   "source": [
    "#balancing classes\n",
    "negs = airline[airline['airline_sentiment'] == 'negative']\n",
    "poss = airline[airline['airline_sentiment'] == 'positive']\n",
    "neus = airline[airline['airline_sentiment'] == 'neutral']\n",
    "balanceddf = pd.concat([negs,neus,neus,neus,poss,poss,poss,poss])\n",
    "balanceddf = balanceddf.reset_index()\n",
    "balanceddf = balanceddf.drop(balanceddf.columns[0],axis=1)\n",
    "balanceddf.head()\n",
    "\n",
    "vectorizer = CountVectorizer()\n",
    "X = vectorizer.fit_transform(balanceddf['text'])\n",
    "X_train, X_test, y_train, y_test = train_test_split(X, balanceddf['airline_sentiment'], test_size=0.1)\n",
    "prev = time.time()\n",
    "clf = SVC(gamma='scale')\n",
    "clf.fit(X_train, y_train)\n",
    "curr = time.time()\n",
    "print(curr-prev)\n"
   ]
  },
  {
   "cell_type": "code",
   "execution_count": 26,
   "metadata": {
    "scrolled": true
   },
   "outputs": [
    {
     "data": {
      "text/plain": [
       "0.9273182957393483"
      ]
     },
     "execution_count": 26,
     "metadata": {},
     "output_type": "execute_result"
    }
   ],
   "source": [
    "clf.score(X_test,y_test)"
   ]
  },
  {
   "cell_type": "code",
   "execution_count": 27,
   "metadata": {},
   "outputs": [
    {
     "data": {
      "text/plain": [
       "array(['negative', 'neutral', 'positive'], dtype=object)"
      ]
     },
     "execution_count": 27,
     "metadata": {},
     "output_type": "execute_result"
    }
   ],
   "source": [
    "np.unique(clf.predict(X_test))"
   ]
  },
  {
   "cell_type": "markdown",
   "metadata": {},
   "source": [
    "#### now we first get test set and then balance"
   ]
  },
  {
   "cell_type": "code",
   "execution_count": 33,
   "metadata": {},
   "outputs": [
    {
     "name": "stdout",
     "output_type": "stream",
     "text": [
      "189.26635551452637\n"
     ]
    },
    {
     "data": {
      "text/plain": [
       "0.78755586112066"
      ]
     },
     "execution_count": 33,
     "metadata": {},
     "output_type": "execute_result"
    }
   ],
   "source": [
    "msk = np.random.rand(len(airline)) < 0.8\n",
    "train = airline[msk]\n",
    "test = airline[~msk]\n",
    "negs = train[train['airline_sentiment'] == 'negative']\n",
    "poss = train[train['airline_sentiment'] == 'positive']\n",
    "neus = train[train['airline_sentiment'] == 'neutral']\n",
    "balanceddf = pd.concat([negs,neus,neus,neus,poss,poss,poss,poss])\n",
    "balanceddf = balanceddf.reset_index()\n",
    "balanceddf = balanceddf.drop(balanceddf.columns[0],axis=1)\n",
    "balanceddf.head()\n",
    "\n",
    "vectorizer = CountVectorizer()\n",
    "X = vectorizer.fit_transform(balanceddf['text'])\n",
    "Y = vectorizer.transform(test['text'])\n",
    "X_train = X\n",
    "X_test = Y\n",
    "y_train = balanceddf['airline_sentiment']\n",
    "y_test = test['airline_sentiment']\n",
    "\n",
    "prev = time.time()\n",
    "clf = SVC(gamma='scale')\n",
    "clf.fit(X_train, y_train)\n",
    "curr = time.time()\n",
    "print(curr-prev)\n",
    "clf.score(X_test,y_test)"
   ]
  },
  {
   "cell_type": "markdown",
   "metadata": {},
   "source": [
    "#### few different options along with different kernels"
   ]
  },
  {
   "cell_type": "code",
   "execution_count": 35,
   "metadata": {},
   "outputs": [
    {
     "name": "stdout",
     "output_type": "stream",
     "text": [
      "168.70934510231018\n"
     ]
    },
    {
     "data": {
      "text/plain": [
       "0.45926435201100035"
      ]
     },
     "execution_count": 35,
     "metadata": {},
     "output_type": "execute_result"
    }
   ],
   "source": [
    "prev = time.time()\n",
    "clf = SVC(gamma='auto')\n",
    "clf.fit(X_train, y_train)\n",
    "curr = time.time()\n",
    "print(curr-prev)\n",
    "clf.score(X_test,y_test)"
   ]
  },
  {
   "cell_type": "code",
   "execution_count": 36,
   "metadata": {},
   "outputs": [
    {
     "name": "stdout",
     "output_type": "stream",
     "text": [
      "204.95463347434998\n"
     ]
    },
    {
     "data": {
      "text/plain": [
       "0.7854932966655208"
      ]
     },
     "execution_count": 36,
     "metadata": {},
     "output_type": "execute_result"
    }
   ],
   "source": [
    "prev = time.time()\n",
    "clf = SVC(gamma='scale',C=1000)\n",
    "clf.fit(X_train, y_train)\n",
    "curr = time.time()\n",
    "print(curr-prev)\n",
    "clf.score(X_test,y_test)"
   ]
  },
  {
   "cell_type": "code",
   "execution_count": 37,
   "metadata": {},
   "outputs": [
    {
     "name": "stdout",
     "output_type": "stream",
     "text": [
      "79.82643532752991\n"
     ]
    },
    {
     "data": {
      "text/plain": [
       "0.7765555173599175"
      ]
     },
     "execution_count": 37,
     "metadata": {},
     "output_type": "execute_result"
    }
   ],
   "source": [
    "prev = time.time()\n",
    "clf = SVC(gamma='auto',C=1000)\n",
    "clf.fit(X_train, y_train)\n",
    "curr = time.time()\n",
    "print(curr-prev)\n",
    "clf.score(X_test,y_test)"
   ]
  },
  {
   "cell_type": "code",
   "execution_count": 38,
   "metadata": {},
   "outputs": [
    {
     "name": "stdout",
     "output_type": "stream",
     "text": [
      "119.84278392791748\n"
     ]
    },
    {
     "data": {
      "text/plain": [
       "0.7645238913716054"
      ]
     },
     "execution_count": 38,
     "metadata": {},
     "output_type": "execute_result"
    }
   ],
   "source": [
    "prev = time.time()\n",
    "clf = SVC(gamma='scale', kernel='linear')\n",
    "clf.fit(X_train, y_train)\n",
    "curr = time.time()\n",
    "print(curr-prev)\n",
    "clf.score(X_test,y_test)"
   ]
  },
  {
   "cell_type": "code",
   "execution_count": 39,
   "metadata": {},
   "outputs": [
    {
     "name": "stdout",
     "output_type": "stream",
     "text": [
      "73.65490674972534\n"
     ]
    },
    {
     "data": {
      "text/plain": [
       "0.7071158473702304"
      ]
     },
     "execution_count": 39,
     "metadata": {},
     "output_type": "execute_result"
    }
   ],
   "source": [
    "prev = time.time()\n",
    "clf = SVC(gamma='scale',kernel='sigmoid')\n",
    "clf.fit(X_train, y_train)\n",
    "curr = time.time()\n",
    "print(curr-prev)\n",
    "clf.score(X_test,y_test)"
   ]
  },
  {
   "cell_type": "code",
   "execution_count": 40,
   "metadata": {},
   "outputs": [
    {
     "name": "stdout",
     "output_type": "stream",
     "text": [
      "72.30181360244751\n"
     ]
    },
    {
     "data": {
      "text/plain": [
       "0.768992781024407"
      ]
     },
     "execution_count": 40,
     "metadata": {},
     "output_type": "execute_result"
    }
   ],
   "source": [
    "prev = time.time()\n",
    "clf = SVC(gamma='auto', kernel='linear', C=0.1)\n",
    "clf.fit(X_train, y_train)\n",
    "curr = time.time()\n",
    "print(curr-prev)\n",
    "clf.score(X_test,y_test)"
   ]
  },
  {
   "cell_type": "markdown",
   "metadata": {},
   "source": [
    "### Testing for different C"
   ]
  },
  {
   "cell_type": "markdown",
   "metadata": {},
   "source": [
    "#### auto"
   ]
  },
  {
   "cell_type": "code",
   "execution_count": 12,
   "metadata": {},
   "outputs": [
    {
     "name": "stdout",
     "output_type": "stream",
     "text": [
      "109\n"
     ]
    }
   ],
   "source": [
    "vectorizer = CountVectorizer()\n",
    "X = vectorizer.fit_transform(airline['text'])\n",
    "X_train, X_test, y_train, y_test = train_test_split(X, airline['airline_sentiment'], test_size=0.2)\n",
    "accs = []\n",
    "cs = np.arange(1,110)\n",
    "print(len(cs))\n",
    "for i in range(109):\n",
    "    clf = SVC(gamma='auto',C=cs[i])\n",
    "    clf.fit(X_train,y_train)\n",
    "    accs.append(clf.score(X_test,y_test))\n",
    "    \n",
    "    "
   ]
  },
  {
   "cell_type": "code",
   "execution_count": 14,
   "metadata": {},
   "outputs": [
    {
     "data": {
      "image/png": "[encoded data removed]",
      "text/plain": [
       "<Figure size 432x288 with 1 Axes>"
      ]
     },
     "metadata": {
      "needs_background": "light"
     },
     "output_type": "display_data"
    }
   ],
   "source": [
    "plt.plot(accs)\n",
    "plt.show()"
   ]
  },
  {
   "cell_type": "markdown",
   "metadata": {},
   "source": [
    "### more tests for higher values"
   ]
  },
  {
   "cell_type": "code",
   "execution_count": 4,
   "metadata": {},
   "outputs": [],
   "source": [
    "vectorizer = CountVectorizer()\n",
    "X = vectorizer.fit_transform(airline['text'])\n",
    "X_train, X_test, y_train, y_test = train_test_split(X, airline['airline_sentiment'], test_size=0.2)\n",
    "accs = []\n",
    "cs = np.arange(100,400,10)\n",
    "for i in range(len(cs)):\n",
    "    clf = SVC(gamma='auto',C=cs[i])\n",
    "    clf.fit(X_train,y_train)\n",
    "    accs.append(clf.score(X_test,y_test))\n",
    "    "
   ]
  },
  {
   "cell_type": "code",
   "execution_count": 7,
   "metadata": {},
   "outputs": [
    {
     "data": {
      "image/png": "[encoded data removed]",
      "text/plain": [
       "<Figure size 432x288 with 1 Axes>"
      ]
     },
     "metadata": {
      "needs_background": "light"
     },
     "output_type": "display_data"
    }
   ],
   "source": [
    "plt.plot(cs,accs)\n",
    "plt.show()"
   ]
  },
  {
   "cell_type": "code",
   "execution_count": 8,
   "metadata": {},
   "outputs": [],
   "source": [
    "vectorizer = CountVectorizer()\n",
    "X = vectorizer.fit_transform(airline['text'])\n",
    "X_train, X_test, y_train, y_test = train_test_split(X, airline['airline_sentiment'], test_size=0.2)\n",
    "accs = []\n",
    "cs = np.arange(500,1000,40)\n",
    "for i in range(len(cs)):\n",
    "    clf = SVC(gamma='auto',C=cs[i])\n",
    "    clf.fit(X_train,y_train)\n",
    "    accs.append(clf.score(X_test,y_test))"
   ]
  },
  {
   "cell_type": "code",
   "execution_count": 9,
   "metadata": {},
   "outputs": [
    {
     "data": {
      "image/png": "[encoded data removed]",
      "text/plain": [
       "<Figure size 432x288 with 1 Axes>"
      ]
     },
     "metadata": {
      "needs_background": "light"
     },
     "output_type": "display_data"
    }
   ],
   "source": [
    "plt.plot(cs,accs)\n",
    "plt.show()"
   ]
  },
  {
   "cell_type": "code",
   "execution_count": 12,
   "metadata": {},
   "outputs": [],
   "source": [
    "vectorizer = CountVectorizer()\n",
    "X = vectorizer.fit_transform(airline['text'])\n",
    "X_train, X_test, y_train, y_test = train_test_split(X, airline['airline_sentiment'], test_size=0.2)\n",
    "accs = []\n",
    "cs = np.arange(1000,5001,1000)\n",
    "for i in range(len(cs)):\n",
    "    clf = SVC(gamma='auto',C=cs[i])\n",
    "    clf.fit(X_train,y_train)\n",
    "    accs.append(clf.score(X_test,y_test))"
   ]
  },
  {
   "cell_type": "code",
   "execution_count": 13,
   "metadata": {},
   "outputs": [
    {
     "data": {
      "image/png": "[encoded data removed]",
      "text/plain": [
       "<Figure size 432x288 with 1 Axes>"
      ]
     },
     "metadata": {
      "needs_background": "light"
     },
     "output_type": "display_data"
    }
   ],
   "source": [
    "plt.plot(cs,accs)\n",
    "plt.show()"
   ]
  },
  {
   "cell_type": "markdown",
   "metadata": {},
   "source": [
    "#### scale"
   ]
  },
  {
   "cell_type": "code",
   "execution_count": 42,
   "metadata": {},
   "outputs": [],
   "source": [
    "vectorizer = CountVectorizer()\n",
    "X = vectorizer.fit_transform(airline['text'])\n",
    "X_train, X_test, y_train, y_test = train_test_split(X, airline['airline_sentiment'], test_size=0.2)\n",
    "accs = []\n",
    "cs = np.arange(1000,5001,1000)\n",
    "for i in range(len(cs)):\n",
    "    clf = SVC(gamma='scale',C=cs[i])\n",
    "    clf.fit(X_train,y_train)\n",
    "    accs.append(clf.score(X_test,y_test))"
   ]
  },
  {
   "cell_type": "code",
   "execution_count": 43,
   "metadata": {},
   "outputs": [
    {
     "data": {
      "image/png": "[encoded data removed]",
      "text/plain": [
       "<Figure size 432x288 with 1 Axes>"
      ]
     },
     "metadata": {
      "needs_background": "light"
     },
     "output_type": "display_data"
    }
   ],
   "source": [
    "plt.plot(cs,accs)\n",
    "plt.show()"
   ]
  },
  {
   "cell_type": "code",
   "execution_count": 44,
   "metadata": {},
   "outputs": [],
   "source": [
    "vectorizer = CountVectorizer()\n",
    "X = vectorizer.fit_transform(airline['text'])\n",
    "X_train, X_test, y_train, y_test = train_test_split(X, airline['airline_sentiment'], test_size=0.2)\n",
    "accs = []\n",
    "cs = np.arange(500,1000,40)\n",
    "for i in range(len(cs)):\n",
    "    clf = SVC(gamma='scale',C=cs[i])\n",
    "    clf.fit(X_train,y_train)\n",
    "    accs.append(clf.score(X_test,y_test))"
   ]
  },
  {
   "cell_type": "code",
   "execution_count": 45,
   "metadata": {},
   "outputs": [
    {
     "data": {
      "image/png": "[encoded data removed]",
      "text/plain": [
       "<Figure size 432x288 with 1 Axes>"
      ]
     },
     "metadata": {
      "needs_background": "light"
     },
     "output_type": "display_data"
    }
   ],
   "source": [
    "plt.plot(cs,accs)\n",
    "plt.show()"
   ]
  },
  {
   "cell_type": "code",
   "execution_count": 46,
   "metadata": {},
   "outputs": [
    {
     "name": "stdout",
     "output_type": "stream",
     "text": [
      "109\n"
     ]
    }
   ],
   "source": [
    "vectorizer = CountVectorizer()\n",
    "X = vectorizer.fit_transform(airline['text'])\n",
    "X_train, X_test, y_train, y_test = train_test_split(X, airline['airline_sentiment'], test_size=0.2)\n",
    "accs = []\n",
    "cs = np.arange(1,110)\n",
    "print(len(cs))\n",
    "for i in range(109):\n",
    "    clf = SVC(gamma='scale',C=cs[i])\n",
    "    clf.fit(X_train,y_train)\n",
    "    accs.append(clf.score(X_test,y_test))"
   ]
  },
  {
   "cell_type": "code",
   "execution_count": 47,
   "metadata": {},
   "outputs": [
    {
     "data": {
      "image/png": "[encoded data removed]",
      "text/plain": [
       "<Figure size 432x288 with 1 Axes>"
      ]
     },
     "metadata": {
      "needs_background": "light"
     },
     "output_type": "display_data"
    }
   ],
   "source": [
    "plt.plot(cs,accs)\n",
    "plt.show()"
   ]
  },
  {
   "cell_type": "markdown",
   "metadata": {},
   "source": [
    "### Checking different gammas"
   ]
  },
  {
   "cell_type": "code",
   "execution_count": 4,
   "metadata": {},
   "outputs": [
    {
     "name": "stdout",
     "output_type": "stream",
     "text": [
      "32.49304676055908\n"
     ]
    }
   ],
   "source": [
    "vectorizer = CountVectorizer()\n",
    "X = vectorizer.fit_transform(airline['text'])\n",
    "X_train, X_test, y_train, y_test = train_test_split(X, airline['airline_sentiment'], test_size=0.2)\n",
    "prev = time.time()\n",
    "clf = SVC(gamma=0.001,C=1000)\n",
    "clf.fit(X_train, y_train)\n",
    "curr = time.time()\n",
    "print(curr-prev)"
   ]
  },
  {
   "cell_type": "code",
   "execution_count": 5,
   "metadata": {},
   "outputs": [
    {
     "data": {
      "text/plain": [
       "0.766051912568306"
      ]
     },
     "execution_count": 5,
     "metadata": {},
     "output_type": "execute_result"
    }
   ],
   "source": [
    "clf.score(X_test,y_test)"
   ]
  },
  {
   "cell_type": "code",
   "execution_count": 6,
   "metadata": {},
   "outputs": [
    {
     "name": "stdout",
     "output_type": "stream",
     "text": [
      "33.34952116012573\n"
     ]
    }
   ],
   "source": [
    "vectorizer = CountVectorizer()\n",
    "X = vectorizer.fit_transform(airline['text'])\n",
    "X_train, X_test, y_train, y_test = train_test_split(X, airline['airline_sentiment'], test_size=0.2)\n",
    "prev = time.time()\n",
    "clf = SVC(gamma=0.01,C=100)\n",
    "clf.fit(X_train, y_train)\n",
    "curr = time.time()\n",
    "print(curr-prev)"
   ]
  },
  {
   "cell_type": "code",
   "execution_count": 7,
   "metadata": {},
   "outputs": [
    {
     "data": {
      "text/plain": [
       "0.7807377049180327"
      ]
     },
     "execution_count": 7,
     "metadata": {},
     "output_type": "execute_result"
    }
   ],
   "source": [
    "clf.score(X_test,y_test)"
   ]
  },
  {
   "cell_type": "markdown",
   "metadata": {},
   "source": [
    "### Preprocessing testing"
   ]
  },
  {
   "cell_type": "markdown",
   "metadata": {},
   "source": [
    "#### tokenization and removing punctuation and numbers"
   ]
  },
  {
   "cell_type": "code",
   "execution_count": 4,
   "metadata": {},
   "outputs": [],
   "source": [
    "copyair = airline.copy()\n",
    "newtext = []\n",
    "for tweet in copyair['text']:\n",
    "    e = re.sub(r'\\d+', '', tweet)\n",
    "    e = e.translate(str.maketrans('', '', string.punctuation))\n",
    "    stemmer= PorterStemmer()\n",
    "    e=word_tokenize(e)\n",
    "    newtext.append(' '.join(e))\n",
    "\n",
    "copyair['text'] = newtext"
   ]
  },
  {
   "cell_type": "code",
   "execution_count": 49,
   "metadata": {},
   "outputs": [
    {
     "name": "stdout",
     "output_type": "stream",
     "text": [
      "29.40772294998169\n"
     ]
    },
    {
     "data": {
      "text/plain": [
       "0.7991803278688525"
      ]
     },
     "execution_count": 49,
     "metadata": {},
     "output_type": "execute_result"
    }
   ],
   "source": [
    "vectorizer = CountVectorizer()\n",
    "X = vectorizer.fit_transform(copyair['text'])\n",
    "X_train, X_test, y_train, y_test = train_test_split(X, copyair['airline_sentiment'], test_size=0.2)\n",
    "prev = time.time()\n",
    "clf = SVC(gamma='scale')\n",
    "clf.fit(X_train, y_train)\n",
    "curr = time.time()\n",
    "print(curr-prev)\n",
    "clf.score(X_test,y_test)"
   ]
  },
  {
   "cell_type": "code",
   "execution_count": 50,
   "metadata": {},
   "outputs": [
    {
     "name": "stdout",
     "output_type": "stream",
     "text": [
      "21.78237771987915\n"
     ]
    },
    {
     "data": {
      "text/plain": [
       "0.8084016393442623"
      ]
     },
     "execution_count": 50,
     "metadata": {},
     "output_type": "execute_result"
    }
   ],
   "source": [
    "vectorizer = CountVectorizer()\n",
    "X = vectorizer.fit_transform(copyair['text'])\n",
    "X_train, X_test, y_train, y_test = train_test_split(X, copyair['airline_sentiment'], test_size=0.2)\n",
    "prev = time.time()\n",
    "clf = SVC(gamma='auto',C=1000)\n",
    "clf.fit(X_train, y_train)\n",
    "curr = time.time()\n",
    "print(curr-prev)\n",
    "clf.score(X_test,y_test)"
   ]
  },
  {
   "cell_type": "markdown",
   "metadata": {},
   "source": [
    "#### tokenization and removing punctuation"
   ]
  },
  {
   "cell_type": "code",
   "execution_count": 11,
   "metadata": {},
   "outputs": [],
   "source": [
    "copyair = airline.copy()\n",
    "newtext = []\n",
    "for tweet in copyair['text']:\n",
    "    e = tweet\n",
    "    e = e.translate(str.maketrans('', '', string.punctuation))\n",
    "    stemmer= PorterStemmer()\n",
    "    e=word_tokenize(e)\n",
    "    newtext.append(' '.join(e))\n",
    "\n",
    "copyair['text'] = newtext"
   ]
  },
  {
   "cell_type": "code",
   "execution_count": 12,
   "metadata": {},
   "outputs": [
    {
     "name": "stdout",
     "output_type": "stream",
     "text": [
      "32.761683225631714\n"
     ]
    },
    {
     "data": {
      "text/plain": [
       "0.79474043715847"
      ]
     },
     "execution_count": 12,
     "metadata": {},
     "output_type": "execute_result"
    }
   ],
   "source": [
    "vectorizer = CountVectorizer()\n",
    "X = vectorizer.fit_transform(copyair['text'])\n",
    "X_train, X_test, y_train, y_test = train_test_split(X, copyair['airline_sentiment'], test_size=0.2)\n",
    "prev = time.time()\n",
    "clf = SVC(gamma='scale')\n",
    "clf.fit(X_train, y_train)\n",
    "curr = time.time()\n",
    "print(curr-prev)\n",
    "clf.score(X_test,y_test)"
   ]
  },
  {
   "cell_type": "code",
   "execution_count": 13,
   "metadata": {},
   "outputs": [
    {
     "name": "stdout",
     "output_type": "stream",
     "text": [
      "24.844545602798462\n"
     ]
    },
    {
     "data": {
      "text/plain": [
       "0.8060109289617486"
      ]
     },
     "execution_count": 13,
     "metadata": {},
     "output_type": "execute_result"
    }
   ],
   "source": [
    "vectorizer = CountVectorizer()\n",
    "X = vectorizer.fit_transform(copyair['text'])\n",
    "X_train, X_test, y_train, y_test = train_test_split(X, copyair['airline_sentiment'], test_size=0.2)\n",
    "prev = time.time()\n",
    "clf = SVC(gamma='auto',C=1000)\n",
    "clf.fit(X_train, y_train)\n",
    "curr = time.time()\n",
    "print(curr-prev)\n",
    "clf.score(X_test,y_test)"
   ]
  },
  {
   "cell_type": "markdown",
   "metadata": {},
   "source": [
    "#### tokenization only"
   ]
  },
  {
   "cell_type": "code",
   "execution_count": 14,
   "metadata": {},
   "outputs": [],
   "source": [
    "copyair = airline.copy()\n",
    "newtext = []\n",
    "for tweet in copyair['text']:\n",
    "    e = tweet\n",
    "    stemmer= PorterStemmer()\n",
    "    e=word_tokenize(e)\n",
    "    newtext.append(' '.join(e))\n",
    "\n",
    "copyair['text'] = newtext"
   ]
  },
  {
   "cell_type": "code",
   "execution_count": 15,
   "metadata": {},
   "outputs": [
    {
     "name": "stdout",
     "output_type": "stream",
     "text": [
      "32.55208206176758\n"
     ]
    },
    {
     "data": {
      "text/plain": [
       "0.7984972677595629"
      ]
     },
     "execution_count": 15,
     "metadata": {},
     "output_type": "execute_result"
    }
   ],
   "source": [
    "vectorizer = CountVectorizer()\n",
    "X = vectorizer.fit_transform(copyair['text'])\n",
    "X_train, X_test, y_train, y_test = train_test_split(X, copyair['airline_sentiment'], test_size=0.2)\n",
    "prev = time.time()\n",
    "clf = SVC(gamma='scale')\n",
    "clf.fit(X_train, y_train)\n",
    "curr = time.time()\n",
    "print(curr-prev)\n",
    "clf.score(X_test,y_test)"
   ]
  },
  {
   "cell_type": "code",
   "execution_count": 16,
   "metadata": {},
   "outputs": [
    {
     "name": "stdout",
     "output_type": "stream",
     "text": [
      "25.34573459625244\n"
     ]
    },
    {
     "data": {
      "text/plain": [
       "0.79474043715847"
      ]
     },
     "execution_count": 16,
     "metadata": {},
     "output_type": "execute_result"
    }
   ],
   "source": [
    "vectorizer = CountVectorizer()\n",
    "X = vectorizer.fit_transform(copyair['text'])\n",
    "X_train, X_test, y_train, y_test = train_test_split(X, copyair['airline_sentiment'], test_size=0.2)\n",
    "prev = time.time()\n",
    "clf = SVC(gamma='auto',C=1000)\n",
    "clf.fit(X_train, y_train)\n",
    "curr = time.time()\n",
    "print(curr-prev)\n",
    "clf.score(X_test,y_test)"
   ]
  },
  {
   "cell_type": "markdown",
   "metadata": {},
   "source": [
    "#### removing punctuation"
   ]
  },
  {
   "cell_type": "code",
   "execution_count": 20,
   "metadata": {},
   "outputs": [],
   "source": [
    "copyair = airline.copy()\n",
    "newtext = []\n",
    "for tweet in copyair['text']:\n",
    "    e = tweet\n",
    "    e = e.translate(str.maketrans('', '', string.punctuation))\n",
    "    newtext.append(e)\n",
    "\n",
    "copyair['text'] = newtext"
   ]
  },
  {
   "cell_type": "code",
   "execution_count": 21,
   "metadata": {},
   "outputs": [
    {
     "name": "stdout",
     "output_type": "stream",
     "text": [
      "32.24389624595642\n"
     ]
    },
    {
     "data": {
      "text/plain": [
       "0.8025956284153005"
      ]
     },
     "execution_count": 21,
     "metadata": {},
     "output_type": "execute_result"
    }
   ],
   "source": [
    "vectorizer = CountVectorizer()\n",
    "X = vectorizer.fit_transform(copyair['text'])\n",
    "X_train, X_test, y_train, y_test = train_test_split(X, copyair['airline_sentiment'], test_size=0.2)\n",
    "prev = time.time()\n",
    "clf = SVC(gamma='scale')\n",
    "clf.fit(X_train, y_train)\n",
    "curr = time.time()\n",
    "print(curr-prev)\n",
    "clf.score(X_test,y_test)"
   ]
  },
  {
   "cell_type": "code",
   "execution_count": 22,
   "metadata": {},
   "outputs": [
    {
     "name": "stdout",
     "output_type": "stream",
     "text": [
      "22.001009225845337\n"
     ]
    },
    {
     "data": {
      "text/plain": [
       "0.8066939890710383"
      ]
     },
     "execution_count": 22,
     "metadata": {},
     "output_type": "execute_result"
    }
   ],
   "source": [
    "vectorizer = CountVectorizer()\n",
    "X = vectorizer.fit_transform(copyair['text'])\n",
    "X_train, X_test, y_train, y_test = train_test_split(X, copyair['airline_sentiment'], test_size=0.2)\n",
    "prev = time.time()\n",
    "clf = SVC(gamma='auto',C=1000)\n",
    "clf.fit(X_train, y_train)\n",
    "curr = time.time()\n",
    "print(curr-prev)\n",
    "clf.score(X_test,y_test)"
   ]
  },
  {
   "cell_type": "markdown",
   "metadata": {},
   "source": [
    "# LINEAR KERNEL"
   ]
  },
  {
   "cell_type": "markdown",
   "metadata": {},
   "source": [
    "### Basic SVM with linear kernel"
   ]
  },
  {
   "cell_type": "code",
   "execution_count": 9,
   "metadata": {
    "scrolled": true
   },
   "outputs": [
    {
     "name": "stdout",
     "output_type": "stream",
     "text": [
      "29.01036763191223\n"
     ]
    },
    {
     "data": {
      "text/plain": [
       "0.7752732240437158"
      ]
     },
     "execution_count": 9,
     "metadata": {},
     "output_type": "execute_result"
    }
   ],
   "source": [
    "vectorizer = CountVectorizer()\n",
    "X = vectorizer.fit_transform(airline['text'])\n",
    "X_train, X_test, y_train, y_test = train_test_split(X, airline['airline_sentiment'], test_size=0.2)\n",
    "prev = time.time()\n",
    "clf = SVC(gamma='auto', kernel='linear')\n",
    "clf.fit(X_train, y_train)\n",
    "curr = time.time()\n",
    "print(curr-prev)\n",
    "clf.score(X_test,y_test)"
   ]
  },
  {
   "cell_type": "markdown",
   "metadata": {},
   "source": [
    "### Testing for different C (values based on previous experiments)"
   ]
  },
  {
   "cell_type": "code",
   "execution_count": 17,
   "metadata": {},
   "outputs": [
    {
     "name": "stdout",
     "output_type": "stream",
     "text": [
      "7\n"
     ]
    }
   ],
   "source": [
    "vectorizer = CountVectorizer()\n",
    "X = vectorizer.fit_transform(airline['text'])\n",
    "X_train, X_test, y_train, y_test = train_test_split(X, airline['airline_sentiment'], test_size=0.2)\n",
    "accs = []\n",
    "cs = [0.01,0.1,1,10,100,500,1000]\n",
    "print(len(cs))\n",
    "for i in range(len(cs)):\n",
    "    clf = SVC(gamma='auto',kernel='linear',C=cs[i])\n",
    "    clf.fit(X_train,y_train)\n",
    "    accs.append(clf.score(X_test,y_test))"
   ]
  },
  {
   "cell_type": "code",
   "execution_count": 18,
   "metadata": {
    "scrolled": true
   },
   "outputs": [
    {
     "data": {
      "image/png": "[encoded data removed]",
      "text/plain": [
       "<Figure size 432x288 with 1 Axes>"
      ]
     },
     "metadata": {
      "needs_background": "light"
     },
     "output_type": "display_data"
    }
   ],
   "source": [
    "plt.plot(cs,accs)\n",
    "plt.show()"
   ]
  },
  {
   "cell_type": "code",
   "execution_count": 6,
   "metadata": {},
   "outputs": [
    {
     "name": "stdout",
     "output_type": "stream",
     "text": [
      "7\n"
     ]
    }
   ],
   "source": [
    "vectorizer = CountVectorizer()\n",
    "X = vectorizer.fit_transform(airline['text'])\n",
    "X_train, X_test, y_train, y_test = train_test_split(X, airline['airline_sentiment'], test_size=0.2)\n",
    "accs = []\n",
    "cs = [0.01,0.1,1,10,100,500,1000]\n",
    "print(len(cs))\n",
    "for i in range(len(cs)):\n",
    "    clf = SVC(gamma='scale',kernel='linear',C=cs[i])\n",
    "    clf.fit(X_train,y_train)\n",
    "    accs.append(clf.score(X_test,y_test))"
   ]
  },
  {
   "cell_type": "code",
   "execution_count": 7,
   "metadata": {
    "scrolled": false
   },
   "outputs": [
    {
     "data": {
      "image/png": "[encoded data removed]",
      "text/plain": [
       "<Figure size 432x288 with 1 Axes>"
      ]
     },
     "metadata": {
      "needs_background": "light"
     },
     "output_type": "display_data"
    }
   ],
   "source": [
    "plt.plot(cs,accs)\n",
    "plt.show()"
   ]
  },
  {
   "cell_type": "code",
   "execution_count": 8,
   "metadata": {
    "scrolled": true
   },
   "outputs": [
    {
     "name": "stdout",
     "output_type": "stream",
     "text": [
      "[0.742827868852459, 0.8039617486338798, 0.7848360655737705, 0.7530737704918032, 0.7308743169398907, 0.7243852459016393, 0.7257513661202186]\n"
     ]
    }
   ],
   "source": [
    "print(accs)"
   ]
  },
  {
   "cell_type": "markdown",
   "metadata": {},
   "source": [
    "### Different parameters"
   ]
  },
  {
   "cell_type": "code",
   "execution_count": 51,
   "metadata": {},
   "outputs": [
    {
     "name": "stdout",
     "output_type": "stream",
     "text": [
      "29.39283561706543\n"
     ]
    },
    {
     "data": {
      "text/plain": [
       "0.7848360655737705"
      ]
     },
     "execution_count": 51,
     "metadata": {},
     "output_type": "execute_result"
    }
   ],
   "source": [
    "vectorizer = CountVectorizer()\n",
    "X = vectorizer.fit_transform(airline['text'])\n",
    "X_train, X_test, y_train, y_test = train_test_split(X, airline['airline_sentiment'], test_size=0.2)\n",
    "prev = time.time()\n",
    "clf = SVC(gamma='scale',kernel='linear')\n",
    "clf.fit(X_train, y_train)\n",
    "curr = time.time()\n",
    "print(curr-prev)\n",
    "clf.score(X_test,y_test)"
   ]
  },
  {
   "cell_type": "code",
   "execution_count": 52,
   "metadata": {},
   "outputs": [
    {
     "name": "stdout",
     "output_type": "stream",
     "text": [
      "29.33910298347473\n"
     ]
    },
    {
     "data": {
      "text/plain": [
       "0.7783469945355191"
      ]
     },
     "execution_count": 52,
     "metadata": {},
     "output_type": "execute_result"
    }
   ],
   "source": [
    "vectorizer = CountVectorizer()\n",
    "X = vectorizer.fit_transform(airline['text'])\n",
    "X_train, X_test, y_train, y_test = train_test_split(X, airline['airline_sentiment'], test_size=0.2)\n",
    "prev = time.time()\n",
    "clf = SVC(gamma='auto', kernel='linear')\n",
    "clf.fit(X_train, y_train)\n",
    "curr = time.time()\n",
    "print(curr-prev)\n",
    "clf.score(X_test,y_test)"
   ]
  },
  {
   "cell_type": "markdown",
   "metadata": {},
   "source": [
    "### Testing preprocessings"
   ]
  },
  {
   "cell_type": "markdown",
   "metadata": {},
   "source": [
    "#### tokenization, removing punctuation and numbers"
   ]
  },
  {
   "cell_type": "code",
   "execution_count": 53,
   "metadata": {},
   "outputs": [],
   "source": [
    "copyair = airline.copy()\n",
    "newtext = []\n",
    "for tweet in copyair['text']:\n",
    "    e = re.sub(r'\\d+', '', tweet)\n",
    "    e = e.translate(str.maketrans('', '', string.punctuation))\n",
    "    stemmer= PorterStemmer()\n",
    "    e=word_tokenize(e)\n",
    "    newtext.append(' '.join(e))\n",
    "\n",
    "copyair['text'] = newtext"
   ]
  },
  {
   "cell_type": "code",
   "execution_count": 55,
   "metadata": {},
   "outputs": [
    {
     "name": "stdout",
     "output_type": "stream",
     "text": [
      "23.837204456329346\n"
     ]
    },
    {
     "data": {
      "text/plain": [
       "0.8077185792349727"
      ]
     },
     "execution_count": 55,
     "metadata": {},
     "output_type": "execute_result"
    }
   ],
   "source": [
    "vectorizer = CountVectorizer()\n",
    "X = vectorizer.fit_transform(copyair['text'])\n",
    "X_train, X_test, y_train, y_test = train_test_split(X, copyair['airline_sentiment'], test_size=0.2)\n",
    "prev = time.time()\n",
    "clf = SVC(kernel='linear',C=0.1)\n",
    "clf.fit(X_train, y_train)\n",
    "curr = time.time()\n",
    "print(curr-prev)\n",
    "clf.score(X_test,y_test)"
   ]
  },
  {
   "cell_type": "markdown",
   "metadata": {},
   "source": [
    "#### removing punctuation"
   ]
  },
  {
   "cell_type": "code",
   "execution_count": 56,
   "metadata": {},
   "outputs": [],
   "source": [
    "copyair = airline.copy()\n",
    "newtext = []\n",
    "for tweet in copyair['text']:\n",
    "    e = tweet\n",
    "    e = e.translate(str.maketrans('', '', string.punctuation))\n",
    "\n",
    "    newtext.append(e)\n",
    "\n",
    "copyair['text'] = newtext"
   ]
  },
  {
   "cell_type": "code",
   "execution_count": 57,
   "metadata": {},
   "outputs": [
    {
     "name": "stdout",
     "output_type": "stream",
     "text": [
      "22.113012313842773\n"
     ]
    },
    {
     "data": {
      "text/plain": [
       "0.805327868852459"
      ]
     },
     "execution_count": 57,
     "metadata": {},
     "output_type": "execute_result"
    }
   ],
   "source": [
    "vectorizer = CountVectorizer()\n",
    "X = vectorizer.fit_transform(copyair['text'])\n",
    "X_train, X_test, y_train, y_test = train_test_split(X, copyair['airline_sentiment'], test_size=0.2)\n",
    "prev = time.time()\n",
    "clf = SVC(kernel='linear',C=0.1)\n",
    "clf.fit(X_train, y_train)\n",
    "curr = time.time()\n",
    "print(curr-prev)\n",
    "clf.score(X_test,y_test)"
   ]
  },
  {
   "cell_type": "markdown",
   "metadata": {},
   "source": [
    "#### removing punctuation and tokenization"
   ]
  },
  {
   "cell_type": "code",
   "execution_count": 7,
   "metadata": {},
   "outputs": [],
   "source": [
    "copyair = airline.copy()\n",
    "newtext = []\n",
    "for tweet in copyair['text']:\n",
    "    e = tweet\n",
    "    e = e.translate(str.maketrans('', '', string.punctuation))\n",
    "    stemmer= PorterStemmer()\n",
    "    e=word_tokenize(e)\n",
    "    newtext.append(' '.join(e))\n",
    "\n",
    "copyair['text'] = newtext"
   ]
  },
  {
   "cell_type": "code",
   "execution_count": 59,
   "metadata": {},
   "outputs": [
    {
     "name": "stdout",
     "output_type": "stream",
     "text": [
      "22.48422336578369\n"
     ]
    },
    {
     "data": {
      "text/plain": [
       "0.8159153005464481"
      ]
     },
     "execution_count": 59,
     "metadata": {},
     "output_type": "execute_result"
    }
   ],
   "source": [
    "vectorizer = CountVectorizer()\n",
    "X = vectorizer.fit_transform(copyair['text'])\n",
    "X_train, X_test, y_train, y_test = train_test_split(X, copyair['airline_sentiment'], test_size=0.2)\n",
    "prev = time.time()\n",
    "clf = SVC(kernel='linear',C=0.1)\n",
    "clf.fit(X_train, y_train)\n",
    "curr = time.time()\n",
    "print(curr-prev)\n",
    "clf.score(X_test,y_test)"
   ]
  },
  {
   "cell_type": "markdown",
   "metadata": {},
   "source": [
    "#### like last one but a bit different parameters"
   ]
  },
  {
   "cell_type": "code",
   "execution_count": 10,
   "metadata": {},
   "outputs": [
    {
     "name": "stdout",
     "output_type": "stream",
     "text": [
      "25.167784452438354\n"
     ]
    },
    {
     "data": {
      "text/plain": [
       "0.7667349726775956"
      ]
     },
     "execution_count": 10,
     "metadata": {},
     "output_type": "execute_result"
    }
   ],
   "source": [
    "vectorizer = CountVectorizer()\n",
    "X = vectorizer.fit_transform(copyair['text'])\n",
    "X_train, X_test, y_train, y_test = train_test_split(X, copyair['airline_sentiment'], test_size=0.2)\n",
    "prev = time.time()\n",
    "clf = SVC(kernel='linear',C=0.01)\n",
    "clf.fit(X_train, y_train)\n",
    "curr = time.time()\n",
    "print(curr-prev)\n",
    "clf.score(X_test,y_test)"
   ]
  },
  {
   "cell_type": "code",
   "execution_count": null,
   "metadata": {},
   "outputs": [],
   "source": []
  },
  {
   "cell_type": "markdown",
   "metadata": {},
   "source": [
    "# POLY KERNEL"
   ]
  },
  {
   "cell_type": "markdown",
   "metadata": {},
   "source": [
    "### Basic SVM with polynomial kernel"
   ]
  },
  {
   "cell_type": "code",
   "execution_count": 10,
   "metadata": {},
   "outputs": [
    {
     "name": "stdout",
     "output_type": "stream",
     "text": [
      "24.0908944606781\n"
     ]
    },
    {
     "data": {
      "text/plain": [
       "0.6267076502732241"
      ]
     },
     "execution_count": 10,
     "metadata": {},
     "output_type": "execute_result"
    }
   ],
   "source": [
    "vectorizer = CountVectorizer()\n",
    "X = vectorizer.fit_transform(airline['text'])\n",
    "X_train, X_test, y_train, y_test = train_test_split(X, airline['airline_sentiment'], test_size=0.2)\n",
    "prev = time.time()\n",
    "clf = SVC(gamma='auto', kernel='poly')\n",
    "clf.fit(X_train, y_train)\n",
    "curr = time.time()\n",
    "print(curr-prev)\n",
    "clf.score(X_test,y_test)"
   ]
  },
  {
   "cell_type": "markdown",
   "metadata": {},
   "source": [
    "### Testing for different C (values based on previous experiments)"
   ]
  },
  {
   "cell_type": "code",
   "execution_count": 9,
   "metadata": {},
   "outputs": [
    {
     "name": "stdout",
     "output_type": "stream",
     "text": [
      "7\n"
     ]
    }
   ],
   "source": [
    "vectorizer = CountVectorizer()\n",
    "X = vectorizer.fit_transform(airline['text'])\n",
    "X_train, X_test, y_train, y_test = train_test_split(X, airline['airline_sentiment'], test_size=0.2)\n",
    "accs = []\n",
    "cs = [0.01,0.1,1,10,100,500,1000]\n",
    "print(len(cs))\n",
    "for i in range(len(cs)):\n",
    "    clf = SVC(gamma='auto',kernel='poly',C=cs[i])\n",
    "    clf.fit(X_train,y_train)\n",
    "    accs.append(clf.score(X_test,y_test))"
   ]
  },
  {
   "cell_type": "code",
   "execution_count": 10,
   "metadata": {},
   "outputs": [
    {
     "data": {
      "image/png": "[encoded data removed]",
      "text/plain": [
       "<Figure size 432x288 with 1 Axes>"
      ]
     },
     "metadata": {
      "needs_background": "light"
     },
     "output_type": "display_data"
    }
   ],
   "source": [
    "plt.plot(cs,accs)\n",
    "plt.show()"
   ]
  },
  {
   "cell_type": "code",
   "execution_count": null,
   "metadata": {},
   "outputs": [],
   "source": [
    "vectorizer = CountVectorizer()\n",
    "X = vectorizer.fit_transform(airline['text'])\n",
    "X_train, X_test, y_train, y_test = train_test_split(X, airline['airline_sentiment'], test_size=0.2)\n",
    "accs = []\n",
    "cs = [0.01,0.1,1,10,100,500,1000]\n",
    "print(len(cs))\n",
    "for i in range(len(cs)):\n",
    "    clf = SVC(gamma='scale',kernel='poly',C=cs[i])\n",
    "    clf.fit(X_train,y_train)\n",
    "    accs.append(clf.score(X_test,y_test))"
   ]
  },
  {
   "cell_type": "code",
   "execution_count": 16,
   "metadata": {},
   "outputs": [
    {
     "data": {
      "image/png": "[encoded data removed]",
      "text/plain": [
       "<Figure size 432x288 with 1 Axes>"
      ]
     },
     "metadata": {
      "needs_background": "light"
     },
     "output_type": "display_data"
    }
   ],
   "source": [
    "plt.plot(cs,accs)\n",
    "plt.show()"
   ]
  },
  {
   "cell_type": "code",
   "execution_count": null,
   "metadata": {},
   "outputs": [],
   "source": [
    "# :/"
   ]
  },
  {
   "cell_type": "code",
   "execution_count": 19,
   "metadata": {},
   "outputs": [
    {
     "name": "stdout",
     "output_type": "stream",
     "text": [
      "2\n"
     ]
    }
   ],
   "source": [
    "vectorizer = CountVectorizer()\n",
    "X = vectorizer.fit_transform(airline['text'])\n",
    "X_train, X_test, y_train, y_test = train_test_split(X, airline['airline_sentiment'], test_size=0.2)\n",
    "accs = []\n",
    "cs = [0.00001,0.0001]\n",
    "print(len(cs))\n",
    "for i in range(len(cs)):\n",
    "    clf = SVC(gamma='auto',kernel='poly',C=cs[i])\n",
    "    clf.fit(X_train,y_train)\n",
    "    accs.append(clf.score(X_test,y_test))"
   ]
  },
  {
   "cell_type": "code",
   "execution_count": 20,
   "metadata": {},
   "outputs": [
    {
     "data": {
      "image/png": "[encoded data removed]",
      "text/plain": [
       "<Figure size 432x288 with 1 Axes>"
      ]
     },
     "metadata": {
      "needs_background": "light"
     },
     "output_type": "display_data"
    }
   ],
   "source": [
    "plt.plot(cs,accs)\n",
    "plt.show()"
   ]
  },
  {
   "cell_type": "code",
   "execution_count": 21,
   "metadata": {},
   "outputs": [
    {
     "name": "stdout",
     "output_type": "stream",
     "text": [
      "2\n"
     ]
    }
   ],
   "source": [
    "vectorizer = CountVectorizer()\n",
    "X = vectorizer.fit_transform(airline['text'])\n",
    "X_train, X_test, y_train, y_test = train_test_split(X, airline['airline_sentiment'], test_size=0.2)\n",
    "accs = []\n",
    "cs = [10000,50000]\n",
    "print(len(cs))\n",
    "for i in range(len(cs)):\n",
    "    clf = SVC(gamma='auto',kernel='poly',C=cs[i])\n",
    "    clf.fit(X_train,y_train)\n",
    "    accs.append(clf.score(X_test,y_test))"
   ]
  },
  {
   "cell_type": "code",
   "execution_count": 22,
   "metadata": {
    "scrolled": true
   },
   "outputs": [
    {
     "data": {
      "image/png": "[encoded data removed]",
      "text/plain": [
       "<Figure size 432x288 with 1 Axes>"
      ]
     },
     "metadata": {
      "needs_background": "light"
     },
     "output_type": "display_data"
    }
   ],
   "source": [
    "plt.plot(cs,accs)\n",
    "plt.show()"
   ]
  },
  {
   "cell_type": "markdown",
   "metadata": {},
   "source": [
    "### Testing coef0 values"
   ]
  },
  {
   "cell_type": "code",
   "execution_count": 52,
   "metadata": {},
   "outputs": [
    {
     "name": "stdout",
     "output_type": "stream",
     "text": [
      "7\n"
     ]
    }
   ],
   "source": [
    "vectorizer = CountVectorizer()\n",
    "X = vectorizer.fit_transform(airline['text'])\n",
    "X_train, X_test, y_train, y_test = train_test_split(X, airline['airline_sentiment'], test_size=0.2)\n",
    "accs = []\n",
    "cs = [0.01,0.1,1,10,100,500,1000]\n",
    "print(len(cs))\n",
    "for i in range(len(cs)):\n",
    "    clf = SVC(gamma='scale',kernel='poly',coef0=cs[i])\n",
    "    clf.fit(X_train,y_train)\n",
    "    accs.append(clf.score(X_test,y_test))"
   ]
  },
  {
   "cell_type": "code",
   "execution_count": 53,
   "metadata": {
    "scrolled": false
   },
   "outputs": [
    {
     "data": {
      "image/png": "[encoded data removed]",
      "text/plain": [
       "<Figure size 432x288 with 1 Axes>"
      ]
     },
     "metadata": {
      "needs_background": "light"
     },
     "output_type": "display_data"
    }
   ],
   "source": [
    "plt.plot(cs,accs)\n",
    "plt.show()"
   ]
  },
  {
   "cell_type": "markdown",
   "metadata": {},
   "source": [
    "### Testing polynomial degrees"
   ]
  },
  {
   "cell_type": "code",
   "execution_count": 4,
   "metadata": {},
   "outputs": [
    {
     "name": "stdout",
     "output_type": "stream",
     "text": [
      "5\n"
     ]
    }
   ],
   "source": [
    "vectorizer = CountVectorizer()\n",
    "X = vectorizer.fit_transform(airline['text'])\n",
    "X_train, X_test, y_train, y_test = train_test_split(X, airline['airline_sentiment'], test_size=0.2)\n",
    "accs = []\n",
    "cs = [1,2,3,5,10]\n",
    "print(len(cs))\n",
    "for i in range(len(cs)):\n",
    "    clf = SVC(gamma='scale',kernel='poly',degree=cs[i])\n",
    "    clf.fit(X_train,y_train)\n",
    "    accs.append(clf.score(X_test,y_test))"
   ]
  },
  {
   "cell_type": "code",
   "execution_count": 5,
   "metadata": {},
   "outputs": [
    {
     "data": {
      "image/png": "[encoded data removed]",
      "text/plain": [
       "<Figure size 432x288 with 1 Axes>"
      ]
     },
     "metadata": {
      "needs_background": "light"
     },
     "output_type": "display_data"
    }
   ],
   "source": [
    "plt.plot(cs,accs)\n",
    "plt.show()"
   ]
  },
  {
   "cell_type": "markdown",
   "metadata": {},
   "source": [
    "### Different preprocessings"
   ]
  },
  {
   "cell_type": "markdown",
   "metadata": {},
   "source": [
    "#### tokenization, removing numbers and punctuation"
   ]
  },
  {
   "cell_type": "code",
   "execution_count": 32,
   "metadata": {},
   "outputs": [],
   "source": [
    "copyair = airline.copy()\n",
    "newtext = []\n",
    "for tweet in copyair['text']:\n",
    "    e = re.sub(r'\\d+', '', tweet)\n",
    "    e = e.translate(str.maketrans('', '', string.punctuation))\n",
    "    stemmer= PorterStemmer()\n",
    "    e=word_tokenize(e)\n",
    "    newtext.append(' '.join(e))\n",
    "\n",
    "copyair['text'] = newtext"
   ]
  },
  {
   "cell_type": "code",
   "execution_count": 34,
   "metadata": {},
   "outputs": [
    {
     "name": "stdout",
     "output_type": "stream",
     "text": [
      "24.947672128677368\n"
     ]
    },
    {
     "data": {
      "text/plain": [
       "0.6294398907103825"
      ]
     },
     "execution_count": 34,
     "metadata": {},
     "output_type": "execute_result"
    }
   ],
   "source": [
    "vectorizer = CountVectorizer()\n",
    "X = vectorizer.fit_transform(copyair['text'])\n",
    "X_train, X_test, y_train, y_test = train_test_split(X, copyair['airline_sentiment'], test_size=0.2)\n",
    "prev = time.time()\n",
    "clf = SVC(kernel='poly',gamma='auto',coef0=0.1)\n",
    "clf.fit(X_train, y_train)\n",
    "curr = time.time()\n",
    "print(curr-prev)\n",
    "clf.score(X_test,y_test)"
   ]
  },
  {
   "cell_type": "markdown",
   "metadata": {},
   "source": [
    "#### removing punctuation"
   ]
  },
  {
   "cell_type": "code",
   "execution_count": 37,
   "metadata": {},
   "outputs": [],
   "source": [
    "copyair = airline.copy()\n",
    "newtext = []\n",
    "for tweet in copyair['text']:\n",
    "    e = tweet\n",
    "    e = e.translate(str.maketrans('', '', string.punctuation))\n",
    "\n",
    "    newtext.append(e)\n",
    "\n",
    "copyair['text'] = newtext"
   ]
  },
  {
   "cell_type": "code",
   "execution_count": 38,
   "metadata": {},
   "outputs": [
    {
     "name": "stdout",
     "output_type": "stream",
     "text": [
      "26.575438976287842\n"
     ]
    },
    {
     "data": {
      "text/plain": [
       "0.6314890710382514"
      ]
     },
     "execution_count": 38,
     "metadata": {},
     "output_type": "execute_result"
    }
   ],
   "source": [
    "vectorizer = CountVectorizer()\n",
    "X = vectorizer.fit_transform(copyair['text'])\n",
    "X_train, X_test, y_train, y_test = train_test_split(X, copyair['airline_sentiment'], test_size=0.2)\n",
    "prev = time.time()\n",
    "clf = SVC(kernel='poly',gamma='auto',coef0=0.1)\n",
    "clf.fit(X_train, y_train)\n",
    "curr = time.time()\n",
    "print(curr-prev)\n",
    "clf.score(X_test,y_test)"
   ]
  },
  {
   "cell_type": "markdown",
   "metadata": {},
   "source": [
    "#### removing punctuation and tokenization"
   ]
  },
  {
   "cell_type": "code",
   "execution_count": 40,
   "metadata": {},
   "outputs": [],
   "source": [
    "copyair = airline.copy()\n",
    "newtext = []\n",
    "for tweet in copyair['text']:\n",
    "    e = tweet\n",
    "    e = e.translate(str.maketrans('', '', string.punctuation))\n",
    "    stemmer= PorterStemmer()\n",
    "    e=word_tokenize(e)\n",
    "    newtext.append(' '.join(e))\n",
    "\n",
    "copyair['text'] = newtext"
   ]
  },
  {
   "cell_type": "code",
   "execution_count": 41,
   "metadata": {},
   "outputs": [
    {
     "name": "stdout",
     "output_type": "stream",
     "text": [
      "26.10347604751587\n"
     ]
    },
    {
     "data": {
      "text/plain": [
       "0.6191939890710383"
      ]
     },
     "execution_count": 41,
     "metadata": {},
     "output_type": "execute_result"
    }
   ],
   "source": [
    "vectorizer = CountVectorizer()\n",
    "X = vectorizer.fit_transform(copyair['text'])\n",
    "X_train, X_test, y_train, y_test = train_test_split(X, copyair['airline_sentiment'], test_size=0.2)\n",
    "prev = time.time()\n",
    "clf = SVC(kernel='poly',gamma='auto',coef0=0.1)\n",
    "clf.fit(X_train, y_train)\n",
    "curr = time.time()\n",
    "print(curr-prev)\n",
    "clf.score(X_test,y_test)"
   ]
  },
  {
   "cell_type": "markdown",
   "metadata": {},
   "source": [
    "# SIGMOID KERNEL"
   ]
  },
  {
   "cell_type": "markdown",
   "metadata": {},
   "source": [
    "### Basic SVM with sigmoid kernel"
   ]
  },
  {
   "cell_type": "code",
   "execution_count": 11,
   "metadata": {
    "scrolled": true
   },
   "outputs": [
    {
     "name": "stdout",
     "output_type": "stream",
     "text": [
      "26.59796118736267\n"
     ]
    },
    {
     "data": {
      "text/plain": [
       "0.6168032786885246"
      ]
     },
     "execution_count": 11,
     "metadata": {},
     "output_type": "execute_result"
    }
   ],
   "source": [
    "vectorizer = CountVectorizer()\n",
    "X = vectorizer.fit_transform(airline['text'])\n",
    "X_train, X_test, y_train, y_test = train_test_split(X, airline['airline_sentiment'], test_size=0.2)\n",
    "prev = time.time()\n",
    "clf = SVC(gamma='auto', kernel='sigmoid')\n",
    "clf.fit(X_train, y_train)\n",
    "curr = time.time()\n",
    "print(curr-prev)\n",
    "clf.score(X_test,y_test)"
   ]
  },
  {
   "cell_type": "markdown",
   "metadata": {},
   "source": [
    "### Testing for different C (values based on previous experiments)"
   ]
  },
  {
   "cell_type": "code",
   "execution_count": 13,
   "metadata": {},
   "outputs": [
    {
     "name": "stdout",
     "output_type": "stream",
     "text": [
      "7\n"
     ]
    }
   ],
   "source": [
    "vectorizer = CountVectorizer()\n",
    "X = vectorizer.fit_transform(airline['text'])\n",
    "X_train, X_test, y_train, y_test = train_test_split(X, airline['airline_sentiment'], test_size=0.2)\n",
    "accs = []\n",
    "cs = [0.01,0.1,1,10,100,500,1000]\n",
    "print(len(cs))\n",
    "for i in range(len(cs)):\n",
    "    clf = SVC(gamma='auto',kernel='sigmoid',C=cs[i])\n",
    "    clf.fit(X_train,y_train)\n",
    "    accs.append(clf.score(X_test,y_test))"
   ]
  },
  {
   "cell_type": "code",
   "execution_count": 14,
   "metadata": {
    "scrolled": true
   },
   "outputs": [
    {
     "data": {
      "image/png": "[encoded data removed]",
      "text/plain": [
       "<Figure size 432x288 with 1 Axes>"
      ]
     },
     "metadata": {
      "needs_background": "light"
     },
     "output_type": "display_data"
    }
   ],
   "source": [
    "plt.plot(cs,accs)\n",
    "plt.show()"
   ]
  },
  {
   "cell_type": "code",
   "execution_count": 57,
   "metadata": {},
   "outputs": [
    {
     "name": "stdout",
     "output_type": "stream",
     "text": [
      "4\n"
     ]
    }
   ],
   "source": [
    "vectorizer = CountVectorizer()\n",
    "X = vectorizer.fit_transform(airline['text'])\n",
    "X_train, X_test, y_train, y_test = train_test_split(X, airline['airline_sentiment'], test_size=0.2)\n",
    "accs = []\n",
    "cs = [1000,2000,3000,4000]\n",
    "print(len(cs))\n",
    "for i in range(len(cs)):\n",
    "    clf = SVC(gamma='auto',kernel='sigmoid',C=cs[i])\n",
    "    clf.fit(X_train,y_train)\n",
    "    accs.append(clf.score(X_test,y_test))"
   ]
  },
  {
   "cell_type": "code",
   "execution_count": 58,
   "metadata": {},
   "outputs": [
    {
     "data": {
      "image/png": "[encoded data removed]",
      "text/plain": [
       "<Figure size 432x288 with 1 Axes>"
      ]
     },
     "metadata": {
      "needs_background": "light"
     },
     "output_type": "display_data"
    }
   ],
   "source": [
    "plt.plot(cs,accs)\n",
    "plt.show()"
   ]
  },
  {
   "cell_type": "markdown",
   "metadata": {},
   "source": [
    "### Testing different coef0 values"
   ]
  },
  {
   "cell_type": "code",
   "execution_count": 4,
   "metadata": {},
   "outputs": [
    {
     "name": "stdout",
     "output_type": "stream",
     "text": [
      "7\n"
     ]
    }
   ],
   "source": [
    "vectorizer = CountVectorizer()\n",
    "X = vectorizer.fit_transform(airline['text'])\n",
    "X_train, X_test, y_train, y_test = train_test_split(X, airline['airline_sentiment'], test_size=0.2)\n",
    "accs = []\n",
    "cs = [0.01,0.1,1,10,100,500,1000]\n",
    "print(len(cs))\n",
    "for i in range(len(cs)):\n",
    "    clf = SVC(gamma='scale',kernel='sigmoid',coef0=cs[i])\n",
    "    clf.fit(X_train,y_train)\n",
    "    accs.append(clf.score(X_test,y_test))"
   ]
  },
  {
   "cell_type": "code",
   "execution_count": 5,
   "metadata": {
    "scrolled": true
   },
   "outputs": [
    {
     "data": {
      "image/png": "[encoded data removed]",
      "text/plain": [
       "<Figure size 432x288 with 1 Axes>"
      ]
     },
     "metadata": {
      "needs_background": "light"
     },
     "output_type": "display_data"
    }
   ],
   "source": [
    "plt.plot(cs,accs)\n",
    "plt.show()"
   ]
  },
  {
   "cell_type": "markdown",
   "metadata": {},
   "source": [
    "### Some preprocessings"
   ]
  },
  {
   "cell_type": "markdown",
   "metadata": {},
   "source": [
    "#### tokenizer, removing numbers and punctuation"
   ]
  },
  {
   "cell_type": "code",
   "execution_count": 11,
   "metadata": {},
   "outputs": [],
   "source": [
    "copyair = airline.copy()\n",
    "newtext = []\n",
    "for tweet in copyair['text']:\n",
    "    e = re.sub(r'\\d+', '', tweet)\n",
    "    e = e.translate(str.maketrans('', '', string.punctuation))\n",
    "    stemmer= PorterStemmer()\n",
    "    e=word_tokenize(e)\n",
    "    newtext.append(' '.join(e))\n",
    "\n",
    "copyair['text'] = newtext"
   ]
  },
  {
   "cell_type": "code",
   "execution_count": 13,
   "metadata": {},
   "outputs": [
    {
     "name": "stdout",
     "output_type": "stream",
     "text": [
      "24.805400609970093\n"
     ]
    },
    {
     "data": {
      "text/plain": [
       "0.8162568306010929"
      ]
     },
     "execution_count": 13,
     "metadata": {},
     "output_type": "execute_result"
    }
   ],
   "source": [
    "vectorizer = CountVectorizer()\n",
    "X = vectorizer.fit_transform(copyair['text'])\n",
    "X_train, X_test, y_train, y_test = train_test_split(X, copyair['airline_sentiment'], test_size=0.2)\n",
    "prev = time.time()\n",
    "clf = SVC(kernel='sigmoid',gamma='auto',C=2000)\n",
    "clf.fit(X_train, y_train)\n",
    "curr = time.time()\n",
    "print(curr-prev)\n",
    "clf.score(X_test,y_test)"
   ]
  },
  {
   "cell_type": "markdown",
   "metadata": {},
   "source": [
    "#### removing punctuation"
   ]
  },
  {
   "cell_type": "code",
   "execution_count": 25,
   "metadata": {},
   "outputs": [],
   "source": [
    "copyair = airline.copy()\n",
    "newtext = []\n",
    "for tweet in copyair['text']:\n",
    "    e = e.translate(str.maketrans('', '', string.punctuation))\n",
    "    newtext.append(e)\n",
    "\n",
    "copyair['text'] = newtext"
   ]
  },
  {
   "cell_type": "code",
   "execution_count": 27,
   "metadata": {},
   "outputs": [
    {
     "name": "stdout",
     "output_type": "stream",
     "text": [
      "14.129487991333008\n"
     ]
    },
    {
     "data": {
      "text/plain": [
       "0.6181693989071039"
      ]
     },
     "execution_count": 27,
     "metadata": {},
     "output_type": "execute_result"
    }
   ],
   "source": [
    "vectorizer = CountVectorizer()\n",
    "X = vectorizer.fit_transform(copyair['text'])\n",
    "X_train, X_test, y_train, y_test = train_test_split(X, copyair['airline_sentiment'], test_size=0.2)\n",
    "prev = time.time()\n",
    "clf = SVC(kernel='sigmoid',gamma='auto',C=2000)\n",
    "clf.fit(X_train, y_train)\n",
    "curr = time.time()\n",
    "print(curr-prev)\n",
    "clf.score(X_test,y_test)"
   ]
  },
  {
   "cell_type": "markdown",
   "metadata": {},
   "source": [
    "#### tokenization and removing punctuation"
   ]
  },
  {
   "cell_type": "code",
   "execution_count": 30,
   "metadata": {},
   "outputs": [],
   "source": [
    "copyair = airline.copy()\n",
    "newtext = []\n",
    "for tweet in copyair['text']:\n",
    "    e = tweet\n",
    "    e = e.translate(str.maketrans('', '', string.punctuation))\n",
    "    stemmer= PorterStemmer()\n",
    "    e=word_tokenize(e)\n",
    "    newtext.append(' '.join(e))\n",
    "\n",
    "copyair['text'] = newtext"
   ]
  },
  {
   "cell_type": "code",
   "execution_count": 31,
   "metadata": {},
   "outputs": [
    {
     "name": "stdout",
     "output_type": "stream",
     "text": [
      "22.53132653236389\n"
     ]
    },
    {
     "data": {
      "text/plain": [
       "0.8056693989071039"
      ]
     },
     "execution_count": 31,
     "metadata": {},
     "output_type": "execute_result"
    }
   ],
   "source": [
    "vectorizer = CountVectorizer()\n",
    "X = vectorizer.fit_transform(copyair['text'])\n",
    "X_train, X_test, y_train, y_test = train_test_split(X, copyair['airline_sentiment'], test_size=0.2)\n",
    "prev = time.time()\n",
    "clf = SVC(kernel='sigmoid',gamma='auto',C=2000)\n",
    "clf.fit(X_train, y_train)\n",
    "curr = time.time()\n",
    "print(curr-prev)\n",
    "clf.score(X_test,y_test)"
   ]
  }
 ],
 "metadata": {
  "kernelspec": {
   "display_name": "Python 3",
   "language": "python",
   "name": "python3"
  },
  "language_info": {
   "codemirror_mode": {
    "name": "ipython",
    "version": 3
   },
   "file_extension": ".py",
   "mimetype": "text/x-python",
   "name": "python",
   "nbconvert_exporter": "python",
   "pygments_lexer": "ipython3",
   "version": "3.7.6"
  }
 },
 "nbformat": 4,
 "nbformat_minor": 2
}
